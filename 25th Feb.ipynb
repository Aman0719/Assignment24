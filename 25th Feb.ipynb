{
 "cells": [
  {
   "cell_type": "code",
   "execution_count": 3,
   "id": "a6b9b24e-5355-40a5-88f4-05a3446e7496",
   "metadata": {},
   "outputs": [],
   "source": [
    "#Consider following code to answer further questions:\n",
    "import pandas as pd\n",
    "course_name = ['Data Science', 'Machine Learning', 'Big Data', 'Data Engineer’']\n",
    "duration = [2,3,6,4]\n",
    "df = pd.DataFrame(data = {'course_name' : course_name, 'duration' : duration})"
   ]
  },
  {
   "cell_type": "code",
   "execution_count": null,
   "id": "b8b83320-d039-4c3e-96a4-a0d9b91d9ff4",
   "metadata": {},
   "outputs": [],
   "source": []
  },
  {
   "cell_type": "code",
   "execution_count": 4,
   "id": "72583491-e672-46e3-97c4-b29c7e777082",
   "metadata": {},
   "outputs": [
    {
     "data": {
      "text/html": [
       "<div>\n",
       "<style scoped>\n",
       "    .dataframe tbody tr th:only-of-type {\n",
       "        vertical-align: middle;\n",
       "    }\n",
       "\n",
       "    .dataframe tbody tr th {\n",
       "        vertical-align: top;\n",
       "    }\n",
       "\n",
       "    .dataframe thead th {\n",
       "        text-align: right;\n",
       "    }\n",
       "</style>\n",
       "<table border=\"1\" class=\"dataframe\">\n",
       "  <thead>\n",
       "    <tr style=\"text-align: right;\">\n",
       "      <th></th>\n",
       "      <th>course_name</th>\n",
       "      <th>duration</th>\n",
       "    </tr>\n",
       "  </thead>\n",
       "  <tbody>\n",
       "    <tr>\n",
       "      <th>0</th>\n",
       "      <td>Data Science</td>\n",
       "      <td>2</td>\n",
       "    </tr>\n",
       "    <tr>\n",
       "      <th>1</th>\n",
       "      <td>Machine Learning</td>\n",
       "      <td>3</td>\n",
       "    </tr>\n",
       "    <tr>\n",
       "      <th>2</th>\n",
       "      <td>Big Data</td>\n",
       "      <td>6</td>\n",
       "    </tr>\n",
       "    <tr>\n",
       "      <th>3</th>\n",
       "      <td>Data Engineer’</td>\n",
       "      <td>4</td>\n",
       "    </tr>\n",
       "  </tbody>\n",
       "</table>\n",
       "</div>"
      ],
      "text/plain": [
       "        course_name  duration\n",
       "0      Data Science         2\n",
       "1  Machine Learning         3\n",
       "2          Big Data         6\n",
       "3    Data Engineer’         4"
      ]
     },
     "execution_count": 4,
     "metadata": {},
     "output_type": "execute_result"
    }
   ],
   "source": [
    "df"
   ]
  },
  {
   "cell_type": "code",
   "execution_count": 8,
   "id": "f534cc71-d009-4869-96a9-2d570fe80f98",
   "metadata": {},
   "outputs": [
    {
     "data": {
      "text/plain": [
       "course_name    Machine Learning\n",
       "duration                      3\n",
       "Name: 1, dtype: object"
      ]
     },
     "execution_count": 8,
     "metadata": {},
     "output_type": "execute_result"
    }
   ],
   "source": [
    "#Q1. Write a code to print the data present in the second row of the dataframe, df.\n",
    "\n",
    "#Ans-\n",
    "\n",
    "'''You can use the iloc method of the DataFrame to access the data in the second row of the dataframe df. \n",
    "The iloc method is used to index the data using the integer position of the rows and columns. \n",
    "In this case, since we want to access the second row, we use the index 1 (since the index starts from 0).'''\n",
    "\n",
    "df.iloc[1]"
   ]
  },
  {
   "cell_type": "code",
   "execution_count": null,
   "id": "174135bd-6ce4-45bd-b301-67e803959906",
   "metadata": {},
   "outputs": [],
   "source": [
    "Q2. What is the difference between the functions loc and iloc in pandas.DataFrame?\n",
    "\n",
    "Ans-\n",
    "\n",
    "Both loc and iloc are methods used in Pandas DataFrame to index and select data from the dataframe, but they work differently.\n",
    "\n",
    "loc is a label-based indexing method which allows you to select data from a dataframe using labels of rows and columns. \n",
    "We can use row and column labels to select specific data. \n",
    "For example, df.loc[1,'duration'] selects the 'duration' value from the row with index 1.\n",
    "\n",
    "iloc is an integer-based indexing method which allows you to select data from a dataframe using integer positions of rows and columns.\n",
    "We can use integer positions to select specific data.\n",
    "For example, df.iloc[1,1] selects the 'duration' value from the second row and second column of the dataframe.\n",
    "\n",
    "In summary, loc is used to select data using labels, while iloc is used to select data using integer positions. \n",
    "The choice between these methods depends on the type of index used in your dataframe.\n",
    "If your dataframe has a label-based index, you should use loc, while if your dataframe has an integer-based index, you should use iloc."
   ]
  },
  {
   "cell_type": "code",
   "execution_count": 9,
   "id": "bafb6eae-fae8-4279-afd7-8cf0152e2424",
   "metadata": {},
   "outputs": [],
   "source": [
    "#Q3. Reindex the given dataframe using a variable, reindex = [3,0,1,2] and store it in the variable, new_df then find the output for both new_df.loc[2] and new_df.iloc[2].\n",
    "\n",
    "#Ans-\n",
    "\n",
    "reindex = [3, 0, 1, 2]\n",
    "new_df = df.reindex(reindex)"
   ]
  },
  {
   "cell_type": "code",
   "execution_count": 11,
   "id": "d43d67f8-3bbe-4e9b-a261-14f634d34813",
   "metadata": {},
   "outputs": [
    {
     "data": {
      "text/html": [
       "<div>\n",
       "<style scoped>\n",
       "    .dataframe tbody tr th:only-of-type {\n",
       "        vertical-align: middle;\n",
       "    }\n",
       "\n",
       "    .dataframe tbody tr th {\n",
       "        vertical-align: top;\n",
       "    }\n",
       "\n",
       "    .dataframe thead th {\n",
       "        text-align: right;\n",
       "    }\n",
       "</style>\n",
       "<table border=\"1\" class=\"dataframe\">\n",
       "  <thead>\n",
       "    <tr style=\"text-align: right;\">\n",
       "      <th></th>\n",
       "      <th>course_name</th>\n",
       "      <th>duration</th>\n",
       "    </tr>\n",
       "  </thead>\n",
       "  <tbody>\n",
       "    <tr>\n",
       "      <th>3</th>\n",
       "      <td>Data Engineer’</td>\n",
       "      <td>4</td>\n",
       "    </tr>\n",
       "    <tr>\n",
       "      <th>0</th>\n",
       "      <td>Data Science</td>\n",
       "      <td>2</td>\n",
       "    </tr>\n",
       "    <tr>\n",
       "      <th>1</th>\n",
       "      <td>Machine Learning</td>\n",
       "      <td>3</td>\n",
       "    </tr>\n",
       "    <tr>\n",
       "      <th>2</th>\n",
       "      <td>Big Data</td>\n",
       "      <td>6</td>\n",
       "    </tr>\n",
       "  </tbody>\n",
       "</table>\n",
       "</div>"
      ],
      "text/plain": [
       "        course_name  duration\n",
       "3    Data Engineer’         4\n",
       "0      Data Science         2\n",
       "1  Machine Learning         3\n",
       "2          Big Data         6"
      ]
     },
     "execution_count": 11,
     "metadata": {},
     "output_type": "execute_result"
    }
   ],
   "source": [
    "new_df"
   ]
  },
  {
   "cell_type": "code",
   "execution_count": 12,
   "id": "7f8d4d37-02b0-46b0-aaf3-4e7668d0d94a",
   "metadata": {},
   "outputs": [
    {
     "data": {
      "text/plain": [
       "course_name    Big Data\n",
       "duration              6\n",
       "Name: 2, dtype: object"
      ]
     },
     "execution_count": 12,
     "metadata": {},
     "output_type": "execute_result"
    }
   ],
   "source": [
    "new_df.loc[2]"
   ]
  },
  {
   "cell_type": "code",
   "execution_count": 13,
   "id": "2ec0a174-f083-4614-ab18-dea66f3642f7",
   "metadata": {},
   "outputs": [
    {
     "data": {
      "text/plain": [
       "course_name    Machine Learning\n",
       "duration                      3\n",
       "Name: 1, dtype: object"
      ]
     },
     "execution_count": 13,
     "metadata": {},
     "output_type": "execute_result"
    }
   ],
   "source": [
    "new_df.iloc[2]"
   ]
  },
  {
   "cell_type": "code",
   "execution_count": null,
   "id": "ec96315d-f610-4eb4-8eb7-846efd23a112",
   "metadata": {},
   "outputs": [],
   "source": [
    "The outputs for new_df.loc[2] and new_df.iloc[2] are different because they use different indexing methods.\n",
    "\n",
    "new_df.loc[2] uses label-based indexing method (loc) to select the row with the label/index 2 from the DataFrame new_df. \n",
    "In this case, the label 2 corresponds to the row that was originally the third row in the DataFrame df before it was reindexed. \n",
    "Therefore, the output is 'Machine Learning' with a duration of 3.\n",
    "\n",
    "On the other hand, new_df.iloc[2] uses integer-based indexing method (iloc) to select the row at the integer position 2 from the DataFrame new_df.\n",
    "In this case, the row at position 2 in new_df corresponds to the row that was originally the third row in the DataFrame df before it was reindexed. \n",
    "Therefore, the output is 'Big Data' with a duration of 6.\n",
    "\n",
    "So the main difference between the two outputs is that new_df.loc[2] uses label-based indexing to select the row with the label 2, while new_df.iloc[2] uses integer-based indexing to select the row at the integer position 2"
   ]
  },
  {
   "cell_type": "code",
   "execution_count": 14,
   "id": "4fb62bbc-6eab-4073-a7b6-d3d293574a1f",
   "metadata": {},
   "outputs": [],
   "source": [
    "#Consider the below code to answer further questions:\n",
    "import pandas as pd\n",
    "import numpy as np\n",
    "columns = ['column_1', 'column_2', 'column_3', 'column_4', 'column_5', 'column_6']\n",
    "indices = [1,2,3,4,5,6]\n",
    "#Creating a dataframe:\n",
    "df1 = pd.DataFrame(np.random.rand(6,6), columns = columns, index = indices)"
   ]
  },
  {
   "cell_type": "code",
   "execution_count": 15,
   "id": "26912b5e-61e6-4a31-876e-bfc2837fcda1",
   "metadata": {},
   "outputs": [
    {
     "data": {
      "text/html": [
       "<div>\n",
       "<style scoped>\n",
       "    .dataframe tbody tr th:only-of-type {\n",
       "        vertical-align: middle;\n",
       "    }\n",
       "\n",
       "    .dataframe tbody tr th {\n",
       "        vertical-align: top;\n",
       "    }\n",
       "\n",
       "    .dataframe thead th {\n",
       "        text-align: right;\n",
       "    }\n",
       "</style>\n",
       "<table border=\"1\" class=\"dataframe\">\n",
       "  <thead>\n",
       "    <tr style=\"text-align: right;\">\n",
       "      <th></th>\n",
       "      <th>column_1</th>\n",
       "      <th>column_2</th>\n",
       "      <th>column_3</th>\n",
       "      <th>column_4</th>\n",
       "      <th>column_5</th>\n",
       "      <th>column_6</th>\n",
       "    </tr>\n",
       "  </thead>\n",
       "  <tbody>\n",
       "    <tr>\n",
       "      <th>1</th>\n",
       "      <td>0.080075</td>\n",
       "      <td>0.644005</td>\n",
       "      <td>0.456092</td>\n",
       "      <td>0.385630</td>\n",
       "      <td>0.236135</td>\n",
       "      <td>0.221719</td>\n",
       "    </tr>\n",
       "    <tr>\n",
       "      <th>2</th>\n",
       "      <td>0.369849</td>\n",
       "      <td>0.237104</td>\n",
       "      <td>0.819657</td>\n",
       "      <td>0.671614</td>\n",
       "      <td>0.379954</td>\n",
       "      <td>0.269548</td>\n",
       "    </tr>\n",
       "    <tr>\n",
       "      <th>3</th>\n",
       "      <td>0.210683</td>\n",
       "      <td>0.504376</td>\n",
       "      <td>0.324529</td>\n",
       "      <td>0.433282</td>\n",
       "      <td>0.420936</td>\n",
       "      <td>0.490774</td>\n",
       "    </tr>\n",
       "    <tr>\n",
       "      <th>4</th>\n",
       "      <td>0.770810</td>\n",
       "      <td>0.499705</td>\n",
       "      <td>0.354524</td>\n",
       "      <td>0.535622</td>\n",
       "      <td>0.496367</td>\n",
       "      <td>0.432007</td>\n",
       "    </tr>\n",
       "    <tr>\n",
       "      <th>5</th>\n",
       "      <td>0.851056</td>\n",
       "      <td>0.987186</td>\n",
       "      <td>0.049985</td>\n",
       "      <td>0.921378</td>\n",
       "      <td>0.340869</td>\n",
       "      <td>0.145150</td>\n",
       "    </tr>\n",
       "    <tr>\n",
       "      <th>6</th>\n",
       "      <td>0.248246</td>\n",
       "      <td>0.135064</td>\n",
       "      <td>0.163204</td>\n",
       "      <td>0.140660</td>\n",
       "      <td>0.510696</td>\n",
       "      <td>0.299848</td>\n",
       "    </tr>\n",
       "  </tbody>\n",
       "</table>\n",
       "</div>"
      ],
      "text/plain": [
       "   column_1  column_2  column_3  column_4  column_5  column_6\n",
       "1  0.080075  0.644005  0.456092  0.385630  0.236135  0.221719\n",
       "2  0.369849  0.237104  0.819657  0.671614  0.379954  0.269548\n",
       "3  0.210683  0.504376  0.324529  0.433282  0.420936  0.490774\n",
       "4  0.770810  0.499705  0.354524  0.535622  0.496367  0.432007\n",
       "5  0.851056  0.987186  0.049985  0.921378  0.340869  0.145150\n",
       "6  0.248246  0.135064  0.163204  0.140660  0.510696  0.299848"
      ]
     },
     "execution_count": 15,
     "metadata": {},
     "output_type": "execute_result"
    }
   ],
   "source": [
    "df1"
   ]
  },
  {
   "cell_type": "code",
   "execution_count": null,
   "id": "81432194-b484-4b61-9f93-8bfd4ecafedc",
   "metadata": {},
   "outputs": [],
   "source": [
    "Q4. Write a code to find the following statistical measurements for the above dataframe df1:\n",
    "(i) mean of each and every column present in the dataframe.\n",
    "(ii) standard deviation of column, ‘column_2’"
   ]
  },
  {
   "cell_type": "code",
   "execution_count": 16,
   "id": "a777d7c7-ed6f-4947-a7ec-e97fab40d88a",
   "metadata": {},
   "outputs": [
    {
     "name": "stdout",
     "output_type": "stream",
     "text": [
      "Column means:\n",
      " column_1    0.421786\n",
      "column_2    0.501240\n",
      "column_3    0.361332\n",
      "column_4    0.514698\n",
      "column_5    0.397493\n",
      "column_6    0.309841\n",
      "dtype: float64\n"
     ]
    }
   ],
   "source": [
    "# (i) Mean of each and every column present in the dataframe\n",
    "column_means = df1.mean()\n",
    "print(\"Column means:\\n\", column_means)"
   ]
  },
  {
   "cell_type": "code",
   "execution_count": 17,
   "id": "6ac2fc23-903c-47db-b434-979c693c9cc1",
   "metadata": {},
   "outputs": [
    {
     "name": "stdout",
     "output_type": "stream",
     "text": [
      "Standard deviation of column 'column_2': 0.3034437036436148\n"
     ]
    }
   ],
   "source": [
    "# (ii) Standard deviation of column 'column_2'\n",
    "column_2_std = df1['column_2'].std()\n",
    "print(\"Standard deviation of column 'column_2':\", column_2_std)"
   ]
  },
  {
   "cell_type": "code",
   "execution_count": 18,
   "id": "52481b9b-153b-4dd8-b1c7-3469e0242e2d",
   "metadata": {},
   "outputs": [
    {
     "data": {
      "text/html": [
       "<div>\n",
       "<style scoped>\n",
       "    .dataframe tbody tr th:only-of-type {\n",
       "        vertical-align: middle;\n",
       "    }\n",
       "\n",
       "    .dataframe tbody tr th {\n",
       "        vertical-align: top;\n",
       "    }\n",
       "\n",
       "    .dataframe thead th {\n",
       "        text-align: right;\n",
       "    }\n",
       "</style>\n",
       "<table border=\"1\" class=\"dataframe\">\n",
       "  <thead>\n",
       "    <tr style=\"text-align: right;\">\n",
       "      <th></th>\n",
       "      <th>column_1</th>\n",
       "      <th>column_2</th>\n",
       "      <th>column_3</th>\n",
       "      <th>column_4</th>\n",
       "      <th>column_5</th>\n",
       "      <th>column_6</th>\n",
       "    </tr>\n",
       "  </thead>\n",
       "  <tbody>\n",
       "    <tr>\n",
       "      <th>1</th>\n",
       "      <td>0.080075</td>\n",
       "      <td>0.644005</td>\n",
       "      <td>0.456092</td>\n",
       "      <td>0.385630</td>\n",
       "      <td>0.236135</td>\n",
       "      <td>0.221719</td>\n",
       "    </tr>\n",
       "    <tr>\n",
       "      <th>2</th>\n",
       "      <td>0.369849</td>\n",
       "      <td>string_value</td>\n",
       "      <td>0.819657</td>\n",
       "      <td>0.671614</td>\n",
       "      <td>0.379954</td>\n",
       "      <td>0.269548</td>\n",
       "    </tr>\n",
       "    <tr>\n",
       "      <th>3</th>\n",
       "      <td>0.210683</td>\n",
       "      <td>0.504376</td>\n",
       "      <td>0.324529</td>\n",
       "      <td>0.433282</td>\n",
       "      <td>0.420936</td>\n",
       "      <td>0.490774</td>\n",
       "    </tr>\n",
       "    <tr>\n",
       "      <th>4</th>\n",
       "      <td>0.770810</td>\n",
       "      <td>0.499705</td>\n",
       "      <td>0.354524</td>\n",
       "      <td>0.535622</td>\n",
       "      <td>0.496367</td>\n",
       "      <td>0.432007</td>\n",
       "    </tr>\n",
       "    <tr>\n",
       "      <th>5</th>\n",
       "      <td>0.851056</td>\n",
       "      <td>0.987186</td>\n",
       "      <td>0.049985</td>\n",
       "      <td>0.921378</td>\n",
       "      <td>0.340869</td>\n",
       "      <td>0.145150</td>\n",
       "    </tr>\n",
       "    <tr>\n",
       "      <th>6</th>\n",
       "      <td>0.248246</td>\n",
       "      <td>0.135064</td>\n",
       "      <td>0.163204</td>\n",
       "      <td>0.140660</td>\n",
       "      <td>0.510696</td>\n",
       "      <td>0.299848</td>\n",
       "    </tr>\n",
       "  </tbody>\n",
       "</table>\n",
       "</div>"
      ],
      "text/plain": [
       "   column_1      column_2  column_3  column_4  column_5  column_6\n",
       "1  0.080075      0.644005  0.456092  0.385630  0.236135  0.221719\n",
       "2  0.369849  string_value  0.819657  0.671614  0.379954  0.269548\n",
       "3  0.210683      0.504376  0.324529  0.433282  0.420936  0.490774\n",
       "4  0.770810      0.499705  0.354524  0.535622  0.496367  0.432007\n",
       "5  0.851056      0.987186  0.049985  0.921378  0.340869  0.145150\n",
       "6  0.248246      0.135064  0.163204  0.140660  0.510696  0.299848"
      ]
     },
     "execution_count": 18,
     "metadata": {},
     "output_type": "execute_result"
    }
   ],
   "source": [
    "'''Q5. Replace the data present in the second row of column, ‘column_2’ by a string variable then find the mean of column, column_2.\n",
    "    If you are getting errors in executing it then explain why.'''\n",
    "    \n",
    "#Ans-\n",
    "\n",
    "# Replace the data present in the second row of column 'column_2' with a string variable\n",
    "df1.loc[2, 'column_2'] = 'string_value'\n",
    "df1"
   ]
  },
  {
   "cell_type": "code",
   "execution_count": 19,
   "id": "d9c0fdf0-7336-4d4d-9a94-b96b63c9ff36",
   "metadata": {},
   "outputs": [
    {
     "ename": "TypeError",
     "evalue": "unsupported operand type(s) for +: 'float' and 'str'",
     "output_type": "error",
     "traceback": [
      "\u001b[0;31m---------------------------------------------------------------------------\u001b[0m",
      "\u001b[0;31mTypeError\u001b[0m                                 Traceback (most recent call last)",
      "Cell \u001b[0;32mIn[19], line 2\u001b[0m\n\u001b[1;32m      1\u001b[0m \u001b[38;5;66;03m# Find the mean of column 'column_2'\u001b[39;00m\n\u001b[0;32m----> 2\u001b[0m column_2_mean \u001b[38;5;241m=\u001b[39m \u001b[43mdf1\u001b[49m\u001b[43m[\u001b[49m\u001b[38;5;124;43m'\u001b[39;49m\u001b[38;5;124;43mcolumn_2\u001b[39;49m\u001b[38;5;124;43m'\u001b[39;49m\u001b[43m]\u001b[49m\u001b[38;5;241;43m.\u001b[39;49m\u001b[43mmean\u001b[49m\u001b[43m(\u001b[49m\u001b[43m)\u001b[49m\n\u001b[1;32m      3\u001b[0m \u001b[38;5;28mprint\u001b[39m(\u001b[38;5;124m\"\u001b[39m\u001b[38;5;124mMean of column \u001b[39m\u001b[38;5;124m'\u001b[39m\u001b[38;5;124mcolumn_2\u001b[39m\u001b[38;5;124m'\u001b[39m\u001b[38;5;124m:\u001b[39m\u001b[38;5;124m\"\u001b[39m, column_2_mean)\n",
      "File \u001b[0;32m/opt/conda/lib/python3.10/site-packages/pandas/core/generic.py:11847\u001b[0m, in \u001b[0;36mNDFrame._add_numeric_operations.<locals>.mean\u001b[0;34m(self, axis, skipna, level, numeric_only, **kwargs)\u001b[0m\n\u001b[1;32m  11829\u001b[0m \u001b[38;5;129m@doc\u001b[39m(\n\u001b[1;32m  11830\u001b[0m     _num_doc,\n\u001b[1;32m  11831\u001b[0m     desc\u001b[38;5;241m=\u001b[39m\u001b[38;5;124m\"\u001b[39m\u001b[38;5;124mReturn the mean of the values over the requested axis.\u001b[39m\u001b[38;5;124m\"\u001b[39m,\n\u001b[0;32m   (...)\u001b[0m\n\u001b[1;32m  11845\u001b[0m     \u001b[38;5;241m*\u001b[39m\u001b[38;5;241m*\u001b[39mkwargs,\n\u001b[1;32m  11846\u001b[0m ):\n\u001b[0;32m> 11847\u001b[0m     \u001b[38;5;28;01mreturn\u001b[39;00m \u001b[43mNDFrame\u001b[49m\u001b[38;5;241;43m.\u001b[39;49m\u001b[43mmean\u001b[49m\u001b[43m(\u001b[49m\u001b[38;5;28;43mself\u001b[39;49m\u001b[43m,\u001b[49m\u001b[43m \u001b[49m\u001b[43maxis\u001b[49m\u001b[43m,\u001b[49m\u001b[43m \u001b[49m\u001b[43mskipna\u001b[49m\u001b[43m,\u001b[49m\u001b[43m \u001b[49m\u001b[43mlevel\u001b[49m\u001b[43m,\u001b[49m\u001b[43m \u001b[49m\u001b[43mnumeric_only\u001b[49m\u001b[43m,\u001b[49m\u001b[43m \u001b[49m\u001b[38;5;241;43m*\u001b[39;49m\u001b[38;5;241;43m*\u001b[39;49m\u001b[43mkwargs\u001b[49m\u001b[43m)\u001b[49m\n",
      "File \u001b[0;32m/opt/conda/lib/python3.10/site-packages/pandas/core/generic.py:11401\u001b[0m, in \u001b[0;36mNDFrame.mean\u001b[0;34m(self, axis, skipna, level, numeric_only, **kwargs)\u001b[0m\n\u001b[1;32m  11393\u001b[0m \u001b[38;5;28;01mdef\u001b[39;00m \u001b[38;5;21mmean\u001b[39m(\n\u001b[1;32m  11394\u001b[0m     \u001b[38;5;28mself\u001b[39m,\n\u001b[1;32m  11395\u001b[0m     axis: Axis \u001b[38;5;241m|\u001b[39m \u001b[38;5;28;01mNone\u001b[39;00m \u001b[38;5;241m|\u001b[39m lib\u001b[38;5;241m.\u001b[39mNoDefault \u001b[38;5;241m=\u001b[39m lib\u001b[38;5;241m.\u001b[39mno_default,\n\u001b[0;32m   (...)\u001b[0m\n\u001b[1;32m  11399\u001b[0m     \u001b[38;5;241m*\u001b[39m\u001b[38;5;241m*\u001b[39mkwargs,\n\u001b[1;32m  11400\u001b[0m ) \u001b[38;5;241m-\u001b[39m\u001b[38;5;241m>\u001b[39m Series \u001b[38;5;241m|\u001b[39m \u001b[38;5;28mfloat\u001b[39m:\n\u001b[0;32m> 11401\u001b[0m     \u001b[38;5;28;01mreturn\u001b[39;00m \u001b[38;5;28;43mself\u001b[39;49m\u001b[38;5;241;43m.\u001b[39;49m\u001b[43m_stat_function\u001b[49m\u001b[43m(\u001b[49m\n\u001b[1;32m  11402\u001b[0m \u001b[43m        \u001b[49m\u001b[38;5;124;43m\"\u001b[39;49m\u001b[38;5;124;43mmean\u001b[39;49m\u001b[38;5;124;43m\"\u001b[39;49m\u001b[43m,\u001b[49m\u001b[43m \u001b[49m\u001b[43mnanops\u001b[49m\u001b[38;5;241;43m.\u001b[39;49m\u001b[43mnanmean\u001b[49m\u001b[43m,\u001b[49m\u001b[43m \u001b[49m\u001b[43maxis\u001b[49m\u001b[43m,\u001b[49m\u001b[43m \u001b[49m\u001b[43mskipna\u001b[49m\u001b[43m,\u001b[49m\u001b[43m \u001b[49m\u001b[43mlevel\u001b[49m\u001b[43m,\u001b[49m\u001b[43m \u001b[49m\u001b[43mnumeric_only\u001b[49m\u001b[43m,\u001b[49m\u001b[43m \u001b[49m\u001b[38;5;241;43m*\u001b[39;49m\u001b[38;5;241;43m*\u001b[39;49m\u001b[43mkwargs\u001b[49m\n\u001b[1;32m  11403\u001b[0m \u001b[43m    \u001b[49m\u001b[43m)\u001b[49m\n",
      "File \u001b[0;32m/opt/conda/lib/python3.10/site-packages/pandas/core/generic.py:11353\u001b[0m, in \u001b[0;36mNDFrame._stat_function\u001b[0;34m(self, name, func, axis, skipna, level, numeric_only, **kwargs)\u001b[0m\n\u001b[1;32m  11343\u001b[0m     warnings\u001b[38;5;241m.\u001b[39mwarn(\n\u001b[1;32m  11344\u001b[0m         \u001b[38;5;124m\"\u001b[39m\u001b[38;5;124mUsing the level keyword in DataFrame and Series aggregations is \u001b[39m\u001b[38;5;124m\"\u001b[39m\n\u001b[1;32m  11345\u001b[0m         \u001b[38;5;124m\"\u001b[39m\u001b[38;5;124mdeprecated and will be removed in a future version. Use groupby \u001b[39m\u001b[38;5;124m\"\u001b[39m\n\u001b[0;32m   (...)\u001b[0m\n\u001b[1;32m  11348\u001b[0m         stacklevel\u001b[38;5;241m=\u001b[39mfind_stack_level(),\n\u001b[1;32m  11349\u001b[0m     )\n\u001b[1;32m  11350\u001b[0m     \u001b[38;5;28;01mreturn\u001b[39;00m \u001b[38;5;28mself\u001b[39m\u001b[38;5;241m.\u001b[39m_agg_by_level(\n\u001b[1;32m  11351\u001b[0m         name, axis\u001b[38;5;241m=\u001b[39maxis, level\u001b[38;5;241m=\u001b[39mlevel, skipna\u001b[38;5;241m=\u001b[39mskipna, numeric_only\u001b[38;5;241m=\u001b[39mnumeric_only\n\u001b[1;32m  11352\u001b[0m     )\n\u001b[0;32m> 11353\u001b[0m \u001b[38;5;28;01mreturn\u001b[39;00m \u001b[38;5;28;43mself\u001b[39;49m\u001b[38;5;241;43m.\u001b[39;49m\u001b[43m_reduce\u001b[49m\u001b[43m(\u001b[49m\n\u001b[1;32m  11354\u001b[0m \u001b[43m    \u001b[49m\u001b[43mfunc\u001b[49m\u001b[43m,\u001b[49m\u001b[43m \u001b[49m\u001b[43mname\u001b[49m\u001b[38;5;241;43m=\u001b[39;49m\u001b[43mname\u001b[49m\u001b[43m,\u001b[49m\u001b[43m \u001b[49m\u001b[43maxis\u001b[49m\u001b[38;5;241;43m=\u001b[39;49m\u001b[43maxis\u001b[49m\u001b[43m,\u001b[49m\u001b[43m \u001b[49m\u001b[43mskipna\u001b[49m\u001b[38;5;241;43m=\u001b[39;49m\u001b[43mskipna\u001b[49m\u001b[43m,\u001b[49m\u001b[43m \u001b[49m\u001b[43mnumeric_only\u001b[49m\u001b[38;5;241;43m=\u001b[39;49m\u001b[43mnumeric_only\u001b[49m\n\u001b[1;32m  11355\u001b[0m \u001b[43m\u001b[49m\u001b[43m)\u001b[49m\n",
      "File \u001b[0;32m/opt/conda/lib/python3.10/site-packages/pandas/core/series.py:4816\u001b[0m, in \u001b[0;36mSeries._reduce\u001b[0;34m(self, op, name, axis, skipna, numeric_only, filter_type, **kwds)\u001b[0m\n\u001b[1;32m   4812\u001b[0m     \u001b[38;5;28;01mraise\u001b[39;00m \u001b[38;5;167;01mNotImplementedError\u001b[39;00m(\n\u001b[1;32m   4813\u001b[0m         \u001b[38;5;124mf\u001b[39m\u001b[38;5;124m\"\u001b[39m\u001b[38;5;124mSeries.\u001b[39m\u001b[38;5;132;01m{\u001b[39;00mname\u001b[38;5;132;01m}\u001b[39;00m\u001b[38;5;124m does not implement \u001b[39m\u001b[38;5;132;01m{\u001b[39;00mkwd_name\u001b[38;5;132;01m}\u001b[39;00m\u001b[38;5;124m.\u001b[39m\u001b[38;5;124m\"\u001b[39m\n\u001b[1;32m   4814\u001b[0m     )\n\u001b[1;32m   4815\u001b[0m \u001b[38;5;28;01mwith\u001b[39;00m np\u001b[38;5;241m.\u001b[39merrstate(\u001b[38;5;28mall\u001b[39m\u001b[38;5;241m=\u001b[39m\u001b[38;5;124m\"\u001b[39m\u001b[38;5;124mignore\u001b[39m\u001b[38;5;124m\"\u001b[39m):\n\u001b[0;32m-> 4816\u001b[0m     \u001b[38;5;28;01mreturn\u001b[39;00m \u001b[43mop\u001b[49m\u001b[43m(\u001b[49m\u001b[43mdelegate\u001b[49m\u001b[43m,\u001b[49m\u001b[43m \u001b[49m\u001b[43mskipna\u001b[49m\u001b[38;5;241;43m=\u001b[39;49m\u001b[43mskipna\u001b[49m\u001b[43m,\u001b[49m\u001b[43m \u001b[49m\u001b[38;5;241;43m*\u001b[39;49m\u001b[38;5;241;43m*\u001b[39;49m\u001b[43mkwds\u001b[49m\u001b[43m)\u001b[49m\n",
      "File \u001b[0;32m/opt/conda/lib/python3.10/site-packages/pandas/core/nanops.py:93\u001b[0m, in \u001b[0;36mdisallow.__call__.<locals>._f\u001b[0;34m(*args, **kwargs)\u001b[0m\n\u001b[1;32m     91\u001b[0m \u001b[38;5;28;01mtry\u001b[39;00m:\n\u001b[1;32m     92\u001b[0m     \u001b[38;5;28;01mwith\u001b[39;00m np\u001b[38;5;241m.\u001b[39merrstate(invalid\u001b[38;5;241m=\u001b[39m\u001b[38;5;124m\"\u001b[39m\u001b[38;5;124mignore\u001b[39m\u001b[38;5;124m\"\u001b[39m):\n\u001b[0;32m---> 93\u001b[0m         \u001b[38;5;28;01mreturn\u001b[39;00m \u001b[43mf\u001b[49m\u001b[43m(\u001b[49m\u001b[38;5;241;43m*\u001b[39;49m\u001b[43margs\u001b[49m\u001b[43m,\u001b[49m\u001b[43m \u001b[49m\u001b[38;5;241;43m*\u001b[39;49m\u001b[38;5;241;43m*\u001b[39;49m\u001b[43mkwargs\u001b[49m\u001b[43m)\u001b[49m\n\u001b[1;32m     94\u001b[0m \u001b[38;5;28;01mexcept\u001b[39;00m \u001b[38;5;167;01mValueError\u001b[39;00m \u001b[38;5;28;01mas\u001b[39;00m e:\n\u001b[1;32m     95\u001b[0m     \u001b[38;5;66;03m# we want to transform an object array\u001b[39;00m\n\u001b[1;32m     96\u001b[0m     \u001b[38;5;66;03m# ValueError message to the more typical TypeError\u001b[39;00m\n\u001b[1;32m     97\u001b[0m     \u001b[38;5;66;03m# e.g. this is normally a disallowed function on\u001b[39;00m\n\u001b[1;32m     98\u001b[0m     \u001b[38;5;66;03m# object arrays that contain strings\u001b[39;00m\n\u001b[1;32m     99\u001b[0m     \u001b[38;5;28;01mif\u001b[39;00m is_object_dtype(args[\u001b[38;5;241m0\u001b[39m]):\n",
      "File \u001b[0;32m/opt/conda/lib/python3.10/site-packages/pandas/core/nanops.py:155\u001b[0m, in \u001b[0;36mbottleneck_switch.__call__.<locals>.f\u001b[0;34m(values, axis, skipna, **kwds)\u001b[0m\n\u001b[1;32m    153\u001b[0m         result \u001b[38;5;241m=\u001b[39m alt(values, axis\u001b[38;5;241m=\u001b[39maxis, skipna\u001b[38;5;241m=\u001b[39mskipna, \u001b[38;5;241m*\u001b[39m\u001b[38;5;241m*\u001b[39mkwds)\n\u001b[1;32m    154\u001b[0m \u001b[38;5;28;01melse\u001b[39;00m:\n\u001b[0;32m--> 155\u001b[0m     result \u001b[38;5;241m=\u001b[39m \u001b[43malt\u001b[49m\u001b[43m(\u001b[49m\u001b[43mvalues\u001b[49m\u001b[43m,\u001b[49m\u001b[43m \u001b[49m\u001b[43maxis\u001b[49m\u001b[38;5;241;43m=\u001b[39;49m\u001b[43maxis\u001b[49m\u001b[43m,\u001b[49m\u001b[43m \u001b[49m\u001b[43mskipna\u001b[49m\u001b[38;5;241;43m=\u001b[39;49m\u001b[43mskipna\u001b[49m\u001b[43m,\u001b[49m\u001b[43m \u001b[49m\u001b[38;5;241;43m*\u001b[39;49m\u001b[38;5;241;43m*\u001b[39;49m\u001b[43mkwds\u001b[49m\u001b[43m)\u001b[49m\n\u001b[1;32m    157\u001b[0m \u001b[38;5;28;01mreturn\u001b[39;00m result\n",
      "File \u001b[0;32m/opt/conda/lib/python3.10/site-packages/pandas/core/nanops.py:418\u001b[0m, in \u001b[0;36m_datetimelike_compat.<locals>.new_func\u001b[0;34m(values, axis, skipna, mask, **kwargs)\u001b[0m\n\u001b[1;32m    415\u001b[0m \u001b[38;5;28;01mif\u001b[39;00m datetimelike \u001b[38;5;129;01mand\u001b[39;00m mask \u001b[38;5;129;01mis\u001b[39;00m \u001b[38;5;28;01mNone\u001b[39;00m:\n\u001b[1;32m    416\u001b[0m     mask \u001b[38;5;241m=\u001b[39m isna(values)\n\u001b[0;32m--> 418\u001b[0m result \u001b[38;5;241m=\u001b[39m \u001b[43mfunc\u001b[49m\u001b[43m(\u001b[49m\u001b[43mvalues\u001b[49m\u001b[43m,\u001b[49m\u001b[43m \u001b[49m\u001b[43maxis\u001b[49m\u001b[38;5;241;43m=\u001b[39;49m\u001b[43maxis\u001b[49m\u001b[43m,\u001b[49m\u001b[43m \u001b[49m\u001b[43mskipna\u001b[49m\u001b[38;5;241;43m=\u001b[39;49m\u001b[43mskipna\u001b[49m\u001b[43m,\u001b[49m\u001b[43m \u001b[49m\u001b[43mmask\u001b[49m\u001b[38;5;241;43m=\u001b[39;49m\u001b[43mmask\u001b[49m\u001b[43m,\u001b[49m\u001b[43m \u001b[49m\u001b[38;5;241;43m*\u001b[39;49m\u001b[38;5;241;43m*\u001b[39;49m\u001b[43mkwargs\u001b[49m\u001b[43m)\u001b[49m\n\u001b[1;32m    420\u001b[0m \u001b[38;5;28;01mif\u001b[39;00m datetimelike:\n\u001b[1;32m    421\u001b[0m     result \u001b[38;5;241m=\u001b[39m _wrap_results(result, orig_values\u001b[38;5;241m.\u001b[39mdtype, fill_value\u001b[38;5;241m=\u001b[39miNaT)\n",
      "File \u001b[0;32m/opt/conda/lib/python3.10/site-packages/pandas/core/nanops.py:706\u001b[0m, in \u001b[0;36mnanmean\u001b[0;34m(values, axis, skipna, mask)\u001b[0m\n\u001b[1;32m    703\u001b[0m     dtype_count \u001b[38;5;241m=\u001b[39m dtype\n\u001b[1;32m    705\u001b[0m count \u001b[38;5;241m=\u001b[39m _get_counts(values\u001b[38;5;241m.\u001b[39mshape, mask, axis, dtype\u001b[38;5;241m=\u001b[39mdtype_count)\n\u001b[0;32m--> 706\u001b[0m the_sum \u001b[38;5;241m=\u001b[39m _ensure_numeric(\u001b[43mvalues\u001b[49m\u001b[38;5;241;43m.\u001b[39;49m\u001b[43msum\u001b[49m\u001b[43m(\u001b[49m\u001b[43maxis\u001b[49m\u001b[43m,\u001b[49m\u001b[43m \u001b[49m\u001b[43mdtype\u001b[49m\u001b[38;5;241;43m=\u001b[39;49m\u001b[43mdtype_sum\u001b[49m\u001b[43m)\u001b[49m)\n\u001b[1;32m    708\u001b[0m \u001b[38;5;28;01mif\u001b[39;00m axis \u001b[38;5;129;01mis\u001b[39;00m \u001b[38;5;129;01mnot\u001b[39;00m \u001b[38;5;28;01mNone\u001b[39;00m \u001b[38;5;129;01mand\u001b[39;00m \u001b[38;5;28mgetattr\u001b[39m(the_sum, \u001b[38;5;124m\"\u001b[39m\u001b[38;5;124mndim\u001b[39m\u001b[38;5;124m\"\u001b[39m, \u001b[38;5;28;01mFalse\u001b[39;00m):\n\u001b[1;32m    709\u001b[0m     count \u001b[38;5;241m=\u001b[39m cast(np\u001b[38;5;241m.\u001b[39mndarray, count)\n",
      "File \u001b[0;32m/opt/conda/lib/python3.10/site-packages/numpy/core/_methods.py:48\u001b[0m, in \u001b[0;36m_sum\u001b[0;34m(a, axis, dtype, out, keepdims, initial, where)\u001b[0m\n\u001b[1;32m     46\u001b[0m \u001b[38;5;28;01mdef\u001b[39;00m \u001b[38;5;21m_sum\u001b[39m(a, axis\u001b[38;5;241m=\u001b[39m\u001b[38;5;28;01mNone\u001b[39;00m, dtype\u001b[38;5;241m=\u001b[39m\u001b[38;5;28;01mNone\u001b[39;00m, out\u001b[38;5;241m=\u001b[39m\u001b[38;5;28;01mNone\u001b[39;00m, keepdims\u001b[38;5;241m=\u001b[39m\u001b[38;5;28;01mFalse\u001b[39;00m,\n\u001b[1;32m     47\u001b[0m          initial\u001b[38;5;241m=\u001b[39m_NoValue, where\u001b[38;5;241m=\u001b[39m\u001b[38;5;28;01mTrue\u001b[39;00m):\n\u001b[0;32m---> 48\u001b[0m     \u001b[38;5;28;01mreturn\u001b[39;00m \u001b[43mumr_sum\u001b[49m\u001b[43m(\u001b[49m\u001b[43ma\u001b[49m\u001b[43m,\u001b[49m\u001b[43m \u001b[49m\u001b[43maxis\u001b[49m\u001b[43m,\u001b[49m\u001b[43m \u001b[49m\u001b[43mdtype\u001b[49m\u001b[43m,\u001b[49m\u001b[43m \u001b[49m\u001b[43mout\u001b[49m\u001b[43m,\u001b[49m\u001b[43m \u001b[49m\u001b[43mkeepdims\u001b[49m\u001b[43m,\u001b[49m\u001b[43m \u001b[49m\u001b[43minitial\u001b[49m\u001b[43m,\u001b[49m\u001b[43m \u001b[49m\u001b[43mwhere\u001b[49m\u001b[43m)\u001b[49m\n",
      "\u001b[0;31mTypeError\u001b[0m: unsupported operand type(s) for +: 'float' and 'str'"
     ]
    }
   ],
   "source": [
    "# Find the mean of column 'column_2'\n",
    "column_2_mean = df1['column_2'].mean()\n",
    "print(\"Mean of column 'column_2':\", column_2_mean)"
   ]
  },
  {
   "cell_type": "code",
   "execution_count": null,
   "id": "f5ac701f-e30d-4f6a-bdaa-5cb4f96bc382",
   "metadata": {},
   "outputs": [],
   "source": [
    " This error occurs because the mean() function is not able to calculate the mean of a column that contains string values. \n",
    "Moreover, mathematical operation can not be performed between string and float values. "
   ]
  },
  {
   "cell_type": "code",
   "execution_count": null,
   "id": "79876a46-3ba1-47ce-9361-e9fe6209804f",
   "metadata": {},
   "outputs": [],
   "source": [
    "Q6. What do you understand about the windows function in pandas and list the types of windows functions?\n",
    "\n",
    "Ans-\n",
    "\n",
    "In pandas, window functions allow you to perform calculations on a sliding window of data over a specified period or rolling window. \n",
    "These functions can be applied to a DataFrame or a Series and can be useful for various analytical and statistical operations such as calculating moving averages, cumulative sums, and many others.\n",
    "\n",
    "There are several types of window functions available in pandas, some of the commonly used ones are:\n",
    "\n",
    "1.Rolling Window: \n",
    "This function applies a window function to a rolling window of a DataFrame or Series. \n",
    "It can be used to compute various statistics over a rolling window, such as moving average, moving sum, or other custom functions.\n",
    "\n",
    "2.Expanding Window: \n",
    "This function applies a window function to an expanding window of a DataFrame or Series.\n",
    "It can be used to compute various statistics over the entire dataset or to compute cumulative sums.\n",
    "\n",
    "3.EWM (Exponentially Weighted Moving) Window:\n",
    "This function applies a weighted moving average function to a window of a DataFrame or Series, with the weights given by an exponential decay function. \n",
    "It is useful for smoothing out a noisy time series.\n",
    "\n",
    "4.GroupBy Window: \n",
    "This function allows you to perform window functions over a grouped DataFrame or Series, applying the function separately to each group.\n",
    "\n",
    "5.Window Function with Shift: \n",
    "This function applies a window function to a DataFrame or Series with a specified time shift. \n",
    "It can be used to calculate differences between data points or to detect trends over time.\n",
    "\n",
    "Overall, window functions are a powerful tool for working with time series and other data that require calculations over a sliding window. \n",
    "They can help you to identify trends, patterns, and anomalies in your data and to make better-informed decisions."
   ]
  },
  {
   "cell_type": "code",
   "execution_count": 20,
   "id": "f1494153-958d-4487-a2da-c54ba2bade88",
   "metadata": {},
   "outputs": [
    {
     "name": "stdout",
     "output_type": "stream",
     "text": [
      "Current month and year: March 2023\n"
     ]
    }
   ],
   "source": [
    "#Q7. Write a code to print only the current month and year at the time of answering this question.\n",
    "\n",
    "#Ans-\n",
    "\n",
    "import datetime\n",
    "\n",
    "# Get the current date\n",
    "current_date = datetime.datetime.now()\n",
    "\n",
    "# Extract the current month and year from the current date\n",
    "current_month = current_date.strftime('%B')\n",
    "current_year = current_date.strftime('%Y')\n",
    "\n",
    "# Print the current month and year\n",
    "print(\"Current month and year:\", current_month, current_year)"
   ]
  },
  {
   "cell_type": "code",
   "execution_count": null,
   "id": "b9862bc9-95ab-430c-9cb1-03e5b3d5f831",
   "metadata": {},
   "outputs": [],
   "source": [
    "Explanation:\n",
    "\n",
    "1.The datetime module provides classes for working with dates and times in Python.\n",
    "2.datetime.datetime.now() returns the current date and time as a datetime object.\n",
    "3.current_date.strftime('%B') extracts the full name of the current month from the datetime object current_date using the strftime() method with the format code %B.\n",
    "4.current_date.strftime('%Y') extracts the current year from the datetime object current_date using the strftime() method with the format code %Y.\n",
    "5.The print() function is used to display the current month and year in the output."
   ]
  },
  {
   "cell_type": "code",
   "execution_count": null,
   "id": "a1566407-3ad4-49d7-b9b1-cffa53945d58",
   "metadata": {},
   "outputs": [],
   "source": [
    "Q8. Write a Python program that takes in two dates as input (in the format YYYY-MM-DD) and calculates the difference between them in days, hours, and minutes using Pandas time delta. \n",
    "    The program should prompt the user to enter the dates and display the result."
   ]
  },
  {
   "cell_type": "code",
   "execution_count": 21,
   "id": "154669bf-eebd-48dc-827c-ad821d6b4467",
   "metadata": {},
   "outputs": [
    {
     "name": "stdin",
     "output_type": "stream",
     "text": [
      "Enter the first date (YYYY-MM-DD):  1995-07-05\n",
      "Enter the second date (YYYY-MM-DD):  2023-03-13\n"
     ]
    },
    {
     "name": "stdout",
     "output_type": "stream",
     "text": [
      "The difference between 1995-07-05 and 2023-03-13 is 10113 days, 0 hours, and 0 minutes.\n"
     ]
    }
   ],
   "source": [
    "import pandas as pd\n",
    "\n",
    "# Prompt the user to enter the two dates\n",
    "date1 = input(\"Enter the first date (YYYY-MM-DD): \")\n",
    "date2 = input(\"Enter the second date (YYYY-MM-DD): \")\n",
    "\n",
    "# Convert the input strings to datetime objects\n",
    "date1 = pd.to_datetime(date1)\n",
    "date2 = pd.to_datetime(date2)\n",
    "\n",
    "# Calculate the time difference using Pandas time delta\n",
    "time_diff = date2 - date1\n",
    "\n",
    "# Calculate the time difference in days, hours, and minutes\n",
    "days_diff = time_diff.days\n",
    "hours_diff = time_diff.seconds // 3600\n",
    "mins_diff = (time_diff.seconds % 3600) // 60\n",
    "\n",
    "# Display the result\n",
    "print(f\"The difference between {date1.date()} and {date2.date()} is {days_diff} days, {hours_diff} hours, and {mins_diff} minutes.\")"
   ]
  },
  {
   "cell_type": "code",
   "execution_count": null,
   "id": "663cc11a-cf77-4d56-b782-40673529bbf1",
   "metadata": {},
   "outputs": [],
   "source": [
    "'''Q9. Write a Python program that reads a CSV file containing categorical data and converts a specified column to a categorical data type. \n",
    "    The program should prompt the user to enter the file path, column name, and category order, and then display the sorted data.'''\n",
    "\n",
    "\n",
    "#Ans-\n",
    "\n",
    "#For this first we will create a csv file containing the categorical data or we can use any existing file.\n",
    "\n",
    "import pandas as pd\n",
    "\n",
    "# Create a DataFrame with categorical data\n",
    "data = pd.DataFrame({\n",
    "    \"Category\": pd.Categorical([\"Fruit\", \"Vegetable\", \"Animal\", \"Vehicle\", \"Clothing\"]),\n",
    "    \"Color\": pd.Categorical([\"Red\", \"Green\", \"Brown\", \"Blue\", \"Black\"]),\n",
    "    \"Shape\": pd.Categorical([\"Circular\", \"Leafy\", \"Furry\", \"Rectangular\", \"Long\"])\n",
    "})\n",
    "\n",
    "# Write the DataFrame to a CSV file\n",
    "data.to_csv(\"categorical_data.csv\", index=False)\n",
    "\n",
    "# Print the contents of the CSV file\n",
    "with open(\"categorical_data.csv\", \"r\") as f:\n",
    "    print(f.read())"
   ]
  },
  {
   "cell_type": "code",
   "execution_count": 5,
   "id": "6724ec14-1bf5-4f3f-a2e9-88b990071d84",
   "metadata": {},
   "outputs": [
    {
     "name": "stdout",
     "output_type": "stream",
     "text": [
      "['Category', 'Color', 'Shape']\n",
      "['Fruit', 'Red', 'Circular']\n",
      "['Vegetable', 'Green', 'Leafy']\n",
      "['Animal', 'Brown', 'Furry']\n",
      "['Vehicle', 'Blue', 'Rectangular']\n",
      "['Clothing', 'Black', 'Long']\n"
     ]
    }
   ],
   "source": [
    "import csv\n",
    "\n",
    "# Open the CSV file in read mode\n",
    "with open('categorical_data.csv', 'r') as csvfile:\n",
    "    csvreader = csv.reader(csvfile)\n",
    "    # Iterate over each row and print it\n",
    "    for row in csvreader:\n",
    "        print(row)\n"
   ]
  },
  {
   "cell_type": "code",
   "execution_count": 2,
   "id": "6634fa1f-b045-4bdc-a5ea-915bad040680",
   "metadata": {},
   "outputs": [
    {
     "name": "stdin",
     "output_type": "stream",
     "text": [
      "Enter the file path:  categorical_data.csv\n",
      "Enter the column name to convert:  Category\n",
      "Enter the category order (comma-separated):  Animal,Vegetable,Fruit,Clothing,Vehicle\n"
     ]
    },
    {
     "name": "stdout",
     "output_type": "stream",
     "text": [
      "    Category  Color        Shape\n",
      "2     Animal  Brown        Furry\n",
      "1  Vegetable  Green        Leafy\n",
      "0      Fruit    Red     Circular\n",
      "4   Clothing  Black         Long\n",
      "3    Vehicle   Blue  Rectangular\n"
     ]
    }
   ],
   "source": [
    "import pandas as pd\n",
    "\n",
    "# Prompt the user to enter the file path, column name, and category order\n",
    "file_path = input(\"Enter the file path: \")\n",
    "column_name = input(\"Enter the column name to convert: \")\n",
    "category_order = input(\"Enter the category order (comma-separated): \").split(\",\")\n",
    "\n",
    "# Read the CSV file\n",
    "data = pd.read_csv(file_path)\n",
    "\n",
    "# Convert the specified column to a categorical data type with the specified category order\n",
    "data[column_name] = pd.Categorical(data[column_name], categories=category_order, ordered=True)\n",
    "\n",
    "# Display the sorted data\n",
    "sorted_data = data.sort_values(by=[column_name])\n",
    "print(sorted_data)"
   ]
  },
  {
   "cell_type": "code",
   "execution_count": null,
   "id": "3bf32185-a372-4d94-b337-f109ed4a62dd",
   "metadata": {},
   "outputs": [],
   "source": [
    "Q10. Write a Python program that reads a CSV file containing sales data for different products and visualizes the data using a stacked bar chart to show the sales of each product category over time. \n",
    "    The program should prompt the user to enter the file path and display the chart.\n",
    "    \n",
    "Ans-\n",
    "\n",
    "For this I will an existing file containing, sales data for three products (Product A, Product B, and Product C) and their corresponding product categories (Category 1, Category 2, and Category 3) for three months (January, February, and March). \n",
    "Each row of the CSV file represents a sale for a specific product on a specific date, and includes the date, product name, product category, and sales amount.\n"
   ]
  },
  {
   "cell_type": "code",
   "execution_count": 4,
   "id": "eb899ff1-a78a-4f8a-a4ad-766b28e08680",
   "metadata": {},
   "outputs": [
    {
     "name": "stdout",
     "output_type": "stream",
     "text": [
      "['Date', 'Product', 'Category', 'Sales']\n",
      "['2022-01-01', 'Product A', 'Category 1', '100']\n",
      "['2022-01-01', 'Product B', 'Category 2', '150']\n",
      "['2022-01-01', 'Product C', 'Category 3', '200']\n",
      "['2022-02-01', 'Product A', 'Category 1', '150']\n",
      "['2022-02-01', 'Product B', 'Category 2', '200']\n",
      "['2022-02-01', 'Product C', 'Category 3', '250']\n",
      "['2022-03-01', 'Product A', 'Category 1', '200']\n",
      "['2022-03-01', 'Product B', 'Category 2', '250']\n",
      "['2022-03-01', 'Product C', 'Category 3', '300']\n"
     ]
    }
   ],
   "source": [
    "import csv\n",
    "\n",
    "# Open the CSV file in read mode\n",
    "with open('sales_data.csv', 'r') as csvfile:\n",
    "    csvreader = csv.reader(csvfile)\n",
    "    # Iterate over each row and print it\n",
    "    for row in csvreader:\n",
    "        print(row)\n"
   ]
  },
  {
   "cell_type": "code",
   "execution_count": 3,
   "id": "1905b3d8-9c6b-487c-ab39-8e5c28e3aa52",
   "metadata": {},
   "outputs": [
    {
     "name": "stdin",
     "output_type": "stream",
     "text": [
      "Enter the file path:  sales_data.csv\n"
     ]
    },
    {
     "data": {
      "image/png": "[encoded data removed]",
      "text/plain": [
       "<Figure size 640x480 with 1 Axes>"
      ]
     },
     "metadata": {},
     "output_type": "display_data"
    }
   ],
   "source": [
    "import pandas as pd\n",
    "import matplotlib.pyplot as plt\n",
    "\n",
    "# Prompt the user to enter the file path\n",
    "file_path = input(\"Enter the file path: \")\n",
    "\n",
    "# Read the CSV file\n",
    "data = pd.read_csv(file_path)\n",
    "\n",
    "# Convert the \"Date\" column to a datetime data type\n",
    "data[\"Date\"] = pd.to_datetime(data[\"Date\"])\n",
    "\n",
    "# Pivot the data to create a DataFrame with the total sales for each product category by month\n",
    "sales_by_month = data.pivot_table(values=\"Sales\", index=data[\"Date\"].dt.strftime(\"%Y-%m\"), columns=\"Category\", aggfunc=\"sum\")\n",
    "\n",
    "# Create a stacked bar chart of the sales data\n",
    "sales_by_month.plot(kind=\"bar\", stacked=True)\n",
    "\n",
    "# Set the chart title and axis labels\n",
    "plt.title(\"Sales by Product Category\")\n",
    "plt.xlabel(\"Month\")\n",
    "plt.ylabel(\"Sales\")\n",
    "\n",
    "# Display the chart\n",
    "plt.show()\n"
   ]
  },
  {
   "cell_type": "code",
   "execution_count": null,
   "id": "986ef6c3-baa2-44c7-923c-3f21ff05bdc2",
   "metadata": {},
   "outputs": [],
   "source": [
    "Q11. You are given a CSV file containing student data that includes the student ID and their test score. \n",
    "    Write a Python program that reads the CSV file, calculates the mean, median, and mode of the test scores, and displays the results in a table.\n",
    "\n",
    "The program should do the following:-\n",
    "-Prompt the user to enter the file path of the CSV file containing the student data.\n",
    "-Read the CSV file into a Pandas DataFrame.\n",
    "-Calculate the mean, median, and mode of the test scores using Pandas tools.\n",
    "-Display the mean, median, and mode in a table.\n",
    "\n",
    "Ans-\n",
    "\n",
    "We will first create a file with the required conditions:-"
   ]
  },
  {
   "cell_type": "code",
   "execution_count": 7,
   "id": "219fa4aa-8592-4a1f-9d63-ba54be6c93ac",
   "metadata": {},
   "outputs": [],
   "source": [
    "import csv\n",
    "\n",
    "# create student data\n",
    "student_data = [\n",
    "    {'Student ID': 1, 'Test Score': 85},\n",
    "    {'Student ID': 2, 'Test Score': 90},\n",
    "    {'Student ID': 3, 'Test Score': 80},\n",
    "    {'Student ID': 4, 'Test Score': 75},\n",
    "    {'Student ID': 5, 'Test Score': 85},\n",
    "    {'Student ID': 6, 'Test Score': 82},\n",
    "    {'Student ID': 7, 'Test Score': 78},\n",
    "    {'Student ID': 8, 'Test Score': 85},\n",
    "    {'Student ID': 9, 'Test Score': 90},\n",
    "    {'Student ID': 10, 'Test Score': 85},\n",
    "]\n",
    "\n",
    "# write student data to CSV file\n",
    "with open('student_data.csv', 'w', newline='') as file:\n",
    "    writer = csv.DictWriter(file, fieldnames=['Student ID', 'Test Score'])\n",
    "    writer.writeheader()\n",
    "    writer.writerows(student_data)\n"
   ]
  },
  {
   "cell_type": "code",
   "execution_count": 8,
   "id": "08686f56-3ffb-4193-b812-19bd013de38e",
   "metadata": {},
   "outputs": [
    {
     "name": "stdout",
     "output_type": "stream",
     "text": [
      "['Student ID', 'Test Score']\n",
      "['1', '85']\n",
      "['2', '90']\n",
      "['3', '80']\n",
      "['4', '75']\n",
      "['5', '85']\n",
      "['6', '82']\n",
      "['7', '78']\n",
      "['8', '85']\n",
      "['9', '90']\n",
      "['10', '85']\n"
     ]
    }
   ],
   "source": [
    "import csv\n",
    "\n",
    "# Open the CSV file in read mode\n",
    "with open('student_data.csv', 'r') as csvfile:\n",
    "    csvreader = csv.reader(csvfile)\n",
    "    # Iterate over each row and print it\n",
    "    for row in csvreader:\n",
    "        print(row)"
   ]
  },
  {
   "cell_type": "code",
   "execution_count": 9,
   "id": "4ec5e1b8-40c5-4ce5-b72a-0b66d0908d33",
   "metadata": {},
   "outputs": [
    {
     "name": "stdin",
     "output_type": "stream",
     "text": [
      "Enter the file path of the CSV file:  student_data.csv\n"
     ]
    },
    {
     "name": "stdout",
     "output_type": "stream",
     "text": [
      "  Statistic  Test Score\n",
      "0      Mean        83.5\n",
      "1    Median        85.0\n",
      "2      Mode        85.0\n"
     ]
    }
   ],
   "source": [
    "import pandas as pd\n",
    "\n",
    "# Prompt the user to enter the file path of the CSV file\n",
    "file_path = input(\"Enter the file path of the CSV file: \")\n",
    "\n",
    "# Read the CSV file into a Pandas DataFrame\n",
    "df = pd.read_csv(file_path)\n",
    "\n",
    "# Calculate the mean, median, and mode of the test scores using Pandas tools\n",
    "mean_score = df['Test Score'].mean()\n",
    "median_score = df['Test Score'].median()\n",
    "mode_score = df['Test Score'].mode().iloc[0]\n",
    "\n",
    "# Display the mean, median, and mode in a table\n",
    "table = pd.DataFrame({'Statistic': ['Mean', 'Median', 'Mode'], 'Test Score': [mean_score, median_score, mode_score]})\n",
    "print(table)\n"
   ]
  },
  {
   "cell_type": "code",
   "execution_count": 10,
   "id": "fd5c8b99-7ff3-4b7f-82e2-e5259922e219",
   "metadata": {},
   "outputs": [
    {
     "data": {
      "text/html": [
       "<div>\n",
       "<style scoped>\n",
       "    .dataframe tbody tr th:only-of-type {\n",
       "        vertical-align: middle;\n",
       "    }\n",
       "\n",
       "    .dataframe tbody tr th {\n",
       "        vertical-align: top;\n",
       "    }\n",
       "\n",
       "    .dataframe thead th {\n",
       "        text-align: right;\n",
       "    }\n",
       "</style>\n",
       "<table border=\"1\" class=\"dataframe\">\n",
       "  <thead>\n",
       "    <tr style=\"text-align: right;\">\n",
       "      <th></th>\n",
       "      <th>Statistic</th>\n",
       "      <th>Test Score</th>\n",
       "    </tr>\n",
       "  </thead>\n",
       "  <tbody>\n",
       "    <tr>\n",
       "      <th>0</th>\n",
       "      <td>Mean</td>\n",
       "      <td>83.5</td>\n",
       "    </tr>\n",
       "    <tr>\n",
       "      <th>1</th>\n",
       "      <td>Median</td>\n",
       "      <td>85.0</td>\n",
       "    </tr>\n",
       "    <tr>\n",
       "      <th>2</th>\n",
       "      <td>Mode</td>\n",
       "      <td>85.0</td>\n",
       "    </tr>\n",
       "  </tbody>\n",
       "</table>\n",
       "</div>"
      ],
      "text/plain": [
       "  Statistic  Test Score\n",
       "0      Mean        83.5\n",
       "1    Median        85.0\n",
       "2      Mode        85.0"
      ]
     },
     "execution_count": 10,
     "metadata": {},
     "output_type": "execute_result"
    }
   ],
   "source": [
    "table"
   ]
  },
  {
   "cell_type": "code",
   "execution_count": null,
   "id": "4216bc06-f805-468a-a87b-8d0e65218b78",
   "metadata": {},
   "outputs": [],
   "source": []
  }
 ],
 "metadata": {
  "kernelspec": {
   "display_name": "Python 3 (ipykernel)",
   "language": "python",
   "name": "python3"
  },
  "language_info": {
   "codemirror_mode": {
    "name": "ipython",
    "version": 3
   },
   "file_extension": ".py",
   "mimetype": "text/x-python",
   "name": "python",
   "nbconvert_exporter": "python",
   "pygments_lexer": "ipython3",
   "version": "3.10.8"
  }
 },
 "nbformat": 4,
 "nbformat_minor": 5
}
